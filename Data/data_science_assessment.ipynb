{
 "cells": [
  {
   "cell_type": "code",
   "execution_count": 45,
   "metadata": {
    "collapsed": true
   },
   "outputs": [],
   "source": [
    "#Data Handling and pre-processing packages\n",
    "import sqlite3\n",
    "from pandas import Series,DataFrame\n",
    "import pandas as pd\n"
   ]
  },
  {
   "cell_type": "code",
   "execution_count": 46,
   "metadata": {
    "collapsed": false
   },
   "outputs": [],
   "source": [
    "#visualization packages\n",
    "import seaborn as sns\n",
    "%matplotlib inline\n",
    "import matplotlib.pyplot as plt"
   ]
  },
  {
   "cell_type": "code",
   "execution_count": 47,
   "metadata": {
    "collapsed": true
   },
   "outputs": [],
   "source": [
    "#Packages for modeling\n",
    "from patsy import dmatrices\n",
    "import warnings\n",
    "warnings.filterwarnings('ignore')\n",
    "from sklearn import naive_bayes\n",
    "from sklearn import linear_model\n",
    "import statsmodels.api as sm"
   ]
  },
  {
   "cell_type": "code",
   "execution_count": 48,
   "metadata": {
    "collapsed": true
   },
   "outputs": [],
   "source": [
    "#cross validation package\n",
    "from sklearn.cross_validation import train_test_split\n",
    "from sklearn import metrics\n"
   ]
  },
  {
   "cell_type": "markdown",
   "metadata": {},
   "source": [
    "# Reading dataset 1 from SQLite database"
   ]
  },
  {
   "cell_type": "code",
   "execution_count": null,
   "metadata": {
    "collapsed": true
   },
   "outputs": [],
   "source": [
    "#Connecting to sqlite database and executing sql commands to extract databases of interest\n",
    "conn=sqlite3.connect(\"contentDiscovery.db\")\n",
    "articles = pd.read_sql_query(\"SELECT * from articles\", conn)\n",
    "email_content=pd.read_sql_query(\"SELECT * from email_content\",conn)\n",
    "types=pd.read_sql_query(\"SELECT * from types\",conn)\n",
    "users=pd.read_sql_query(\"SELECT * from users\",conn)\n",
    "topics=pd.read_sql_query(\"SELECT * from topics\",conn)\n",
    "articles_user_join=pd.read_sql_query(\"SELECT user_id,count(article_id) from email_content group by user_id\",conn)\n",
    "join_email_article=pd.read_sql_query(\"SELECT email_content.user_id,email_content.article_id,email_content.send_time,articles.topic_id,articles.type_id,articles.author_id,articles.submission_time from email_content,articles where articles.article_id=email_content.article_id \",conn)\n",
    "conn.close()"
   ]
  },
  {
   "cell_type": "markdown",
   "metadata": {},
   "source": [
    "# Reading dataset 2 from apache file"
   ]
  },
  {
   "cell_type": "code",
   "execution_count": 12,
   "metadata": {
    "collapsed": true
   },
   "outputs": [],
   "source": [
    "#extracting data from apache file and using string manipulation techniques to extract features of interest\n",
    "data=pd.read_csv(\"access.log\",header=None)\n",
    "time=data[0].str.split('\"GET',expand=True)\n",
    "time=time[0]\n",
    "article_id=data[0].str.split('&user_id',expand=True)\n",
    "article_id=article_id[0].str.split('=',expand=True)\n",
    "article_id=article_id[1]\n",
    "user_id=data[0].str.split('HTTP',expand=True)\n",
    "user_id=user_id[0].str.split('user_id=',expand=True)\n",
    "user_id=user_id[1]"
   ]
  },
  {
   "cell_type": "code",
   "execution_count": 13,
   "metadata": {
    "collapsed": true
   },
   "outputs": [],
   "source": [
    "#creating the final dataframe of clicks of links\n",
    "data['article_id']=article_id\n",
    "data['user_id']=user_id\n",
    "data['time']=time\n",
    "data=data.drop(0,1)\n",
    "data['user_id']=data['user_id'].astype(float)\n",
    "data['article_id']=data['article_id'].astype(float)\n",
    "#adding a target variable; Target is 1 if the user clicked the article and it is 0 if user didn't click the article. Since\n",
    "#this database contains all the clicks, all the target values are 1\n",
    "data['target']=1  "
   ]
  },
  {
   "cell_type": "markdown",
   "metadata": {},
   "source": [
    "# Designing training data"
   ]
  },
  {
   "cell_type": "markdown",
   "metadata": {},
   "source": [
    "Ideally the training data should have information such as the article, user\n",
    "type,topic, month, time and if the article was read or not which is given in the \n",
    "target feature that we created"
   ]
  },
  {
   "cell_type": "code",
   "execution_count": 14,
   "metadata": {
    "collapsed": false
   },
   "outputs": [
    {
     "data": {
      "text/plain": [
       "(10746772, 9)"
      ]
     },
     "execution_count": 14,
     "metadata": {},
     "output_type": "execute_result"
    }
   ],
   "source": [
    "trainingdata=pd.merge(join_email_article,data,on=['user_id','article_id'],how='left')\n",
    "#performing a left join to merge the click of links dataset and the email links dataset. \n",
    "trainingdata['target']=trainingdata['target'].fillna(0)\n",
    "#Setting all the target values that are empty as a resulting of joining to 0; these are user_id \n",
    "#and article_id combinations that haven't been clicked\n",
    "trainingdata['time']=trainingdata['time'].fillna(0)\n",
    "trainingdata.shape"
   ]
  },
  {
   "cell_type": "code",
   "execution_count": 15,
   "metadata": {
    "collapsed": false
   },
   "outputs": [
    {
     "data": {
      "text/html": [
       "<div>\n",
       "<table border=\"1\" class=\"dataframe\">\n",
       "  <thead>\n",
       "    <tr style=\"text-align: right;\">\n",
       "      <th></th>\n",
       "      <th>user_id</th>\n",
       "      <th>article_id</th>\n",
       "      <th>send_time</th>\n",
       "      <th>topic_id</th>\n",
       "      <th>type_id</th>\n",
       "      <th>author_id</th>\n",
       "      <th>submission_time</th>\n",
       "      <th>time</th>\n",
       "      <th>target</th>\n",
       "    </tr>\n",
       "  </thead>\n",
       "  <tbody>\n",
       "    <tr>\n",
       "      <th>0</th>\n",
       "      <td>11460</td>\n",
       "      <td>66</td>\n",
       "      <td>2015-01-02 08:06:20.070850</td>\n",
       "      <td>72</td>\n",
       "      <td>22</td>\n",
       "      <td>18587</td>\n",
       "      <td>2015-01-01 08:37:35.202464</td>\n",
       "      <td>0</td>\n",
       "      <td>0</td>\n",
       "    </tr>\n",
       "    <tr>\n",
       "      <th>1</th>\n",
       "      <td>11460</td>\n",
       "      <td>135</td>\n",
       "      <td>2015-01-02 08:06:20.070850</td>\n",
       "      <td>39</td>\n",
       "      <td>25</td>\n",
       "      <td>12121</td>\n",
       "      <td>2015-01-01 13:00:09.427579</td>\n",
       "      <td>0</td>\n",
       "      <td>0</td>\n",
       "    </tr>\n",
       "    <tr>\n",
       "      <th>2</th>\n",
       "      <td>11460</td>\n",
       "      <td>175</td>\n",
       "      <td>2015-01-02 08:06:20.070850</td>\n",
       "      <td>91</td>\n",
       "      <td>13</td>\n",
       "      <td>946</td>\n",
       "      <td>2015-01-01 15:09:33.957804</td>\n",
       "      <td>0</td>\n",
       "      <td>0</td>\n",
       "    </tr>\n",
       "    <tr>\n",
       "      <th>3</th>\n",
       "      <td>11460</td>\n",
       "      <td>205</td>\n",
       "      <td>2015-01-02 08:06:20.070850</td>\n",
       "      <td>94</td>\n",
       "      <td>23</td>\n",
       "      <td>798</td>\n",
       "      <td>2015-01-01 17:28:56.236504</td>\n",
       "      <td>0</td>\n",
       "      <td>0</td>\n",
       "    </tr>\n",
       "    <tr>\n",
       "      <th>4</th>\n",
       "      <td>11460</td>\n",
       "      <td>218</td>\n",
       "      <td>2015-01-02 08:06:20.070850</td>\n",
       "      <td>7</td>\n",
       "      <td>49</td>\n",
       "      <td>17423</td>\n",
       "      <td>2015-01-01 18:56:20.937220</td>\n",
       "      <td>[02/Jan/2015:18:09:06]</td>\n",
       "      <td>1</td>\n",
       "    </tr>\n",
       "  </tbody>\n",
       "</table>\n",
       "</div>"
      ],
      "text/plain": [
       "   user_id  article_id                   send_time  topic_id  type_id  \\\n",
       "0    11460          66  2015-01-02 08:06:20.070850        72       22   \n",
       "1    11460         135  2015-01-02 08:06:20.070850        39       25   \n",
       "2    11460         175  2015-01-02 08:06:20.070850        91       13   \n",
       "3    11460         205  2015-01-02 08:06:20.070850        94       23   \n",
       "4    11460         218  2015-01-02 08:06:20.070850         7       49   \n",
       "\n",
       "   author_id             submission_time                     time  target  \n",
       "0      18587  2015-01-01 08:37:35.202464                        0       0  \n",
       "1      12121  2015-01-01 13:00:09.427579                        0       0  \n",
       "2        946  2015-01-01 15:09:33.957804                        0       0  \n",
       "3        798  2015-01-01 17:28:56.236504                        0       0  \n",
       "4      17423  2015-01-01 18:56:20.937220  [02/Jan/2015:18:09:06]        1  "
      ]
     },
     "execution_count": 15,
     "metadata": {},
     "output_type": "execute_result"
    }
   ],
   "source": [
    "trainingdata.head()\n",
    "#we need to extract relevant feature of time for analysis. I have made a hypothesis that \n",
    "#trends change significantly over a month. If the changes are massive, we can drill down to weekly data and daily data\n",
    "#If not we can stick with analysis on monthly data"
   ]
  },
  {
   "cell_type": "code",
   "execution_count": null,
   "metadata": {
    "collapsed": true
   },
   "outputs": [],
   "source": [
    "#Since I have decided to analyze monthly data, I am removing day and year and only extracting month in feature 'month_send_time'\n",
    "#month_send_time holds values of the month in which the article was sent\n",
    "month_send_time=trainingdata['send_time']\n",
    "month_send_time=trainingdata['send_time'].str.split('-',expand=True)\n",
    "month_send_time=month_send_time[1]\n",
    "trainingdata['month_send_time']=month_send_time\n",
    "trainingdata['month_send_time']=month_send_time"
   ]
  },
  {
   "cell_type": "code",
   "execution_count": null,
   "metadata": {
    "collapsed": true
   },
   "outputs": [],
   "source": [
    "#saving training data to a csv file for ease of import and use\n",
    "trainingdata.to_csv(\"finaltrainingdata2.csv\")"
   ]
  },
  {
   "cell_type": "markdown",
   "metadata": {},
   "source": [
    "# Exploratory Data Analysis"
   ]
  },
  {
   "cell_type": "code",
   "execution_count": 6,
   "metadata": {
    "collapsed": false
   },
   "outputs": [],
   "source": [
    "#reading the main training data which was created and saved in the pre-processing stage\n",
    "df=pd.read_csv(\"finaltrainingdata2.csv\")"
   ]
  },
  {
   "cell_type": "code",
   "execution_count": 7,
   "metadata": {
    "collapsed": false
   },
   "outputs": [
    {
     "data": {
      "text/plain": [
       "20000"
      ]
     },
     "execution_count": 7,
     "metadata": {},
     "output_type": "execute_result"
    }
   ],
   "source": [
    "#calculating total number of users\n",
    "df=df.drop('Unnamed: 0',1)\n",
    "df['user_id'].value_counts().count()"
   ]
  },
  {
   "cell_type": "code",
   "execution_count": 68,
   "metadata": {
    "collapsed": false
   },
   "outputs": [
    {
     "data": {
      "text/plain": [
       "1202"
      ]
     },
     "execution_count": 68,
     "metadata": {},
     "output_type": "execute_result"
    }
   ],
   "source": [
    "#calculating total number of authors\n",
    "#it is found that less than 5% of the users are authors who contribute to articles\n",
    "df['author_id'].value_counts().count()"
   ]
  },
  {
   "cell_type": "code",
   "execution_count": 8,
   "metadata": {
    "collapsed": false
   },
   "outputs": [
    {
     "name": "stdout",
     "output_type": "stream",
     "text": [
      "20000\n",
      "20000\n",
      "20000\n",
      "181\n",
      "169\n",
      "186\n"
     ]
    }
   ],
   "source": [
    "#grouping data by month for analysis of trends over the three months\n",
    "\n",
    "df_month_3=df[df['month_send_time']==3] # segmenting data of month 3\n",
    "df_month_2=df[df['month_send_time']==2] # segmenting data of month 2\n",
    "df_month_1=df[df['month_send_time']==1] # segmenting data of month 1\n",
    "\n",
    "\n",
    "\n",
    "\n"
   ]
  },
  {
   "cell_type": "code",
   "execution_count": 9,
   "metadata": {
    "collapsed": false
   },
   "outputs": [
    {
     "name": "stdout",
     "output_type": "stream",
     "text": [
      "20000\n",
      "20000\n",
      "20000\n"
     ]
    }
   ],
   "source": [
    "#segmenting each of the monthly grouped data by target feature 1 (only data of links that were read there were in each month)\n",
    "data_target_1=df[df['target']==1]\n",
    "\n",
    "df_month_1_target_1=df_month_1[df_month_1['target']==1]\n",
    "df_month_2_target_1=df_month_2[df_month_2['target']==1]\n",
    "df_month_3_target_1=df_month_3[df_month_3['target']==1]\n"
   ]
  },
  {
   "cell_type": "code",
   "execution_count": 23,
   "metadata": {
    "collapsed": false
   },
   "outputs": [
    {
     "data": {
      "image/png": "[encoded data removed]",
      "text/plain": [
       "<matplotlib.figure.Figure at 0x3f339ef0>"
      ]
     },
     "metadata": {},
     "output_type": "display_data"
    }
   ],
   "source": [
    "#Plotting interest of over all users over topic. Interest is measured as the total count of articles in that topic that was read\n",
    "fig, (axis1,axis2,axis3) = plt.subplots(1,3,figsize=(15,5))\n",
    "sns.distplot(df_month_1_target_1['topic_id'],ax=axis1)\n",
    "sns.distplot(df_month_2_target_1['topic_id'],ax=axis2)\n",
    "sns.distplot(df_month_3_target_1['topic_id'],ax=axis3)\n",
    "axis1.set_title('Month 1')\n",
    "axis2.set_title('Month 2')\n",
    "axis3.set_title('Month 3')\n",
    "axis1.set_ylabel('Interest')\n",
    "axis2.set_ylabel('Interest')\n",
    "axis3.set_ylabel('Interest')\n",
    "fig.suptitle('Interest and Topic trend',fontsize=14)\n",
    "fig.savefig('Interest_in_topic_trend.png')"
   ]
  },
  {
   "cell_type": "code",
   "execution_count": 33,
   "metadata": {
    "collapsed": false
   },
   "outputs": [
    {
     "data": {
      "image/png": "[encoded data removed]",
      "text/plain": [
       "<matplotlib.figure.Figure at 0x23503390>"
      ]
     },
     "metadata": {},
     "output_type": "display_data"
    }
   ],
   "source": [
    "#Plotting interest of over all users over type of article. \n",
    "#Interest is measured as the total count of articles in that type that was read\n",
    "fig, (axis1,axis2,axis3) = plt.subplots(1,3,figsize=(15,5))\n",
    "sns.distplot(df_month_1_target_1['type_id'],ax=axis1)\n",
    "sns.distplot(df_month_2_target_1['type_id'],ax=axis2)\n",
    "sns.distplot(df_month_3_target_1['type_id'],ax=axis3)\n",
    "axis1.set_title('Month 1')\n",
    "axis2.set_title('Month 2')\n",
    "axis3.set_title('Month 3')\n",
    "axis1.set_ylabel('Interest')\n",
    "axis2.set_ylabel('Interest')\n",
    "axis3.set_ylabel('Interest')\n",
    "fig.suptitle('Interest and Type of article trend',fontsize=14)\n",
    "fig.savefig('Interest_in_type_trend.png')"
   ]
  },
  {
   "cell_type": "code",
   "execution_count": null,
   "metadata": {
    "collapsed": true
   },
   "outputs": [],
   "source": [
    "#The patterns look very similar in plots for topic and type which show that interest level doesn't seem to have drastically changed \n",
    "#over time"
   ]
  },
  {
   "cell_type": "code",
   "execution_count": 34,
   "metadata": {
    "collapsed": false
   },
   "outputs": [
    {
     "data": {
      "image/png": "[encoded data removed]",
      "text/plain": [
       "<matplotlib.figure.Figure at 0x38a0f748>"
      ]
     },
     "metadata": {},
     "output_type": "display_data"
    }
   ],
   "source": [
    "#Plotting interest of over all users over the author of article. \n",
    "#Interest is measured as the total count of articles from the particular author that was read\n",
    "fig, (axis1,axis2,axis3) = plt.subplots(1,3,figsize=(15,5))\n",
    "sns.distplot(df_month_1_target_1['author_id'],ax=axis1)\n",
    "sns.distplot(df_month_2_target_1['author_id'],ax=axis2)\n",
    "sns.distplot(df_month_3_target_1['author_id'],ax=axis3)\n",
    "axis1.set_title('Month 1')\n",
    "axis2.set_title('Month 2')\n",
    "axis3.set_title('Month 3')\n",
    "axis1.set_ylabel('Interest')\n",
    "axis2.set_ylabel('Interest')\n",
    "axis3.set_ylabel('Interest')\n",
    "fig.suptitle('Interest and author of article trend',fontsize=14)\n",
    "fig.savefig('Interest_in_author_trend.png')"
   ]
  },
  {
   "cell_type": "markdown",
   "metadata": {
    "collapsed": true
   },
   "source": [
    "# DATA MODELING"
   ]
  },
  {
   "cell_type": "code",
   "execution_count": 4,
   "metadata": {
    "collapsed": true
   },
   "outputs": [],
   "source": [
    "#Way we approach: find likelihood on month 1. use the same model to predict that for month 2 and 3. \n",
    "#if the same model predicts if the link will be read or not with a high accuracy, it means that not much \n",
    "#changes have happened in that  month from the previous month"
   ]
  },
  {
   "cell_type": "code",
   "execution_count": 79,
   "metadata": {
    "collapsed": false
   },
   "outputs": [],
   "source": [
    "df=pd.read_csv(\"finaltrainingdata2.csv\")"
   ]
  },
  {
   "cell_type": "code",
   "execution_count": 7,
   "metadata": {
    "collapsed": false
   },
   "outputs": [
    {
     "data": {
      "text/html": [
       "<div>\n",
       "<table border=\"1\" class=\"dataframe\">\n",
       "  <thead>\n",
       "    <tr style=\"text-align: right;\">\n",
       "      <th></th>\n",
       "      <th>Unnamed: 0</th>\n",
       "      <th>user_id</th>\n",
       "      <th>article_id</th>\n",
       "      <th>topic_id</th>\n",
       "      <th>type_id</th>\n",
       "      <th>author_id</th>\n",
       "      <th>time</th>\n",
       "      <th>target</th>\n",
       "      <th>month_send_time</th>\n",
       "      <th>submission_month</th>\n",
       "    </tr>\n",
       "  </thead>\n",
       "  <tbody>\n",
       "    <tr>\n",
       "      <th>0</th>\n",
       "      <td>0</td>\n",
       "      <td>11460</td>\n",
       "      <td>66</td>\n",
       "      <td>72</td>\n",
       "      <td>22</td>\n",
       "      <td>18587</td>\n",
       "      <td>0</td>\n",
       "      <td>0</td>\n",
       "      <td>1</td>\n",
       "      <td>1</td>\n",
       "    </tr>\n",
       "    <tr>\n",
       "      <th>1</th>\n",
       "      <td>1</td>\n",
       "      <td>11460</td>\n",
       "      <td>135</td>\n",
       "      <td>39</td>\n",
       "      <td>25</td>\n",
       "      <td>12121</td>\n",
       "      <td>0</td>\n",
       "      <td>0</td>\n",
       "      <td>1</td>\n",
       "      <td>1</td>\n",
       "    </tr>\n",
       "    <tr>\n",
       "      <th>2</th>\n",
       "      <td>2</td>\n",
       "      <td>11460</td>\n",
       "      <td>175</td>\n",
       "      <td>91</td>\n",
       "      <td>13</td>\n",
       "      <td>946</td>\n",
       "      <td>0</td>\n",
       "      <td>0</td>\n",
       "      <td>1</td>\n",
       "      <td>1</td>\n",
       "    </tr>\n",
       "    <tr>\n",
       "      <th>3</th>\n",
       "      <td>3</td>\n",
       "      <td>11460</td>\n",
       "      <td>205</td>\n",
       "      <td>94</td>\n",
       "      <td>23</td>\n",
       "      <td>798</td>\n",
       "      <td>0</td>\n",
       "      <td>0</td>\n",
       "      <td>1</td>\n",
       "      <td>1</td>\n",
       "    </tr>\n",
       "    <tr>\n",
       "      <th>4</th>\n",
       "      <td>4</td>\n",
       "      <td>11460</td>\n",
       "      <td>218</td>\n",
       "      <td>7</td>\n",
       "      <td>49</td>\n",
       "      <td>17423</td>\n",
       "      <td>[02/Jan/2015:18:09:06]</td>\n",
       "      <td>1</td>\n",
       "      <td>1</td>\n",
       "      <td>1</td>\n",
       "    </tr>\n",
       "  </tbody>\n",
       "</table>\n",
       "</div>"
      ],
      "text/plain": [
       "   Unnamed: 0  user_id  article_id  topic_id  type_id  author_id  \\\n",
       "0           0    11460          66        72       22      18587   \n",
       "1           1    11460         135        39       25      12121   \n",
       "2           2    11460         175        91       13        946   \n",
       "3           3    11460         205        94       23        798   \n",
       "4           4    11460         218         7       49      17423   \n",
       "\n",
       "                      time  target  month_send_time  submission_month  \n",
       "0                        0       0                1                 1  \n",
       "1                        0       0                1                 1  \n",
       "2                        0       0                1                 1  \n",
       "3                        0       0                1                 1  \n",
       "4  [02/Jan/2015:18:09:06]        1                1                 1  "
      ]
     },
     "execution_count": 7,
     "metadata": {},
     "output_type": "execute_result"
    }
   ],
   "source": [
    "df.head()"
   ]
  },
  {
   "cell_type": "code",
   "execution_count": 8,
   "metadata": {
    "collapsed": false
   },
   "outputs": [],
   "source": [
    "df=df.drop('Unnamed: 0',1)"
   ]
  },
  {
   "cell_type": "code",
   "execution_count": 25,
   "metadata": {
    "collapsed": true
   },
   "outputs": [],
   "source": [
    "#ensuring that every feature is treated as a categorical variable while modeling\n",
    "df['user_id']=df['user_id'].astype('category')\n",
    "df['article_id']=df['article_id'].astype('category')\n",
    "df['topic_id']=df['topic_id'].astype('category')\n",
    "df['type_id']=df['type_id'].astype('category')\n",
    "df['author_id']=df['author_id'].astype('category')\n",
    "df['month_send_time']=df['month_send_time'].astype('category')\n",
    "df['target']=df['target'].astype('category')"
   ]
  },
  {
   "cell_type": "code",
   "execution_count": 26,
   "metadata": {
    "collapsed": false
   },
   "outputs": [],
   "source": [
    "formula='target~user_id+author_id+topic_id+type_id+month_send_time' \n",
    "#article id has been ommitted as it is not the same for\n",
    "#every month and wont work with our approach\n",
    "model=naive_bayes.MultinomialNB()"
   ]
  },
  {
   "cell_type": "code",
   "execution_count": 27,
   "metadata": {
    "collapsed": false
   },
   "outputs": [],
   "source": [
    "Y,X=dmatrices(formula,df,return_type='dataframe')\n",
    "X_train,X_test,Y_train,Y_test=train_test_split(X,Y,test_size=0.25,random_state=42)"
   ]
  },
  {
   "cell_type": "code",
   "execution_count": 28,
   "metadata": {
    "collapsed": false
   },
   "outputs": [
    {
     "name": "stderr",
     "output_type": "stream",
     "text": [
      "C:\\Users\\Reshma\\Anaconda1\\lib\\site-packages\\sklearn\\utils\\validation.py:449: DataConversionWarning: A column-vector y was passed when a 1d array was expected. Please change the shape of y to (n_samples, ), for example using ravel().\n",
      "  y = column_or_1d(y, warn=True)\n"
     ]
    }
   ],
   "source": [
    "nb1=model.fit(X_train,Y_train)"
   ]
  },
  {
   "cell_type": "code",
   "execution_count": 29,
   "metadata": {
    "collapsed": true
   },
   "outputs": [],
   "source": [
    "predval=nb1.predict(X_test)"
   ]
  },
  {
   "cell_type": "code",
   "execution_count": 33,
   "metadata": {
    "collapsed": false
   },
   "outputs": [
    {
     "name": "stdout",
     "output_type": "stream",
     "text": [
      "0.540058354267\n"
     ]
    }
   ],
   "source": [
    "print metrics.accuracy_score(Y_test,predval)"
   ]
  },
  {
   "cell_type": "code",
   "execution_count": null,
   "metadata": {
    "collapsed": true
   },
   "outputs": [],
   "source": [
    "#Since we are getting an accuracy of only 54%, let us try another model - the logistic model. \n",
    "logreg=linear_model.LogisticRegression()"
   ]
  },
  {
   "cell_type": "code",
   "execution_count": 36,
   "metadata": {
    "collapsed": true
   },
   "outputs": [],
   "source": [
    "X=df\n",
    "Y=X['target']\n",
    "X=X.drop('target',1)\n",
    "X=X.drop('time',1)\n",
    "X=X.drop('article_id',1)\n",
    "X=X.drop('submission_month',1)\n",
    "X_train,X_test,Y_train,Y_test=train_test_split(X,Y,test_size=0.25,random_state=42)"
   ]
  },
  {
   "cell_type": "code",
   "execution_count": 37,
   "metadata": {
    "collapsed": true
   },
   "outputs": [],
   "source": [
    "logisticmodel=logreg.fit(X_train,Y_train)\n",
    "pred_y=logisticmodel.predict(X_test)\n",
    "#confusion_matrix(pred_y,Y_test)"
   ]
  },
  {
   "cell_type": "code",
   "execution_count": 38,
   "metadata": {
    "collapsed": false
   },
   "outputs": [
    {
     "data": {
      "text/plain": [
       "0.8360162474834304"
      ]
     },
     "execution_count": 38,
     "metadata": {},
     "output_type": "execute_result"
    }
   ],
   "source": [
    "metrics.accuracy_score(Y_test,pred_y)"
   ]
  },
  {
   "cell_type": "code",
   "execution_count": 44,
   "metadata": {
    "collapsed": true
   },
   "outputs": [],
   "source": [
    "#Since the logistic model gives us an accuracy of around 83% we can trust the likelihood values of this model."
   ]
  },
  {
   "cell_type": "code",
   "execution_count": 53,
   "metadata": {
    "collapsed": true
   },
   "outputs": [],
   "source": [
    "#Let us make the  assumption that there is no change in trends in terms of reading articles i.e people's likelihoods\n",
    "#are not affected by time. In this case, the same model we used to predict likelihoods would accurately "
   ]
  },
  {
   "cell_type": "code",
   "execution_count": null,
   "metadata": {
    "collapsed": true
   },
   "outputs": [],
   "source": [
    "#let us model logistic regression over month 1  and see its performance on month 2 and month 3 data\n",
    "#this would help us assess the changes that happened"
   ]
  },
  {
   "cell_type": "code",
   "execution_count": 56,
   "metadata": {
    "collapsed": true
   },
   "outputs": [],
   "source": [
    "df_month_1=df[df['month_send_time']==1]"
   ]
  },
  {
   "cell_type": "code",
   "execution_count": 30,
   "metadata": {
    "collapsed": false
   },
   "outputs": [
    {
     "data": {
      "text/plain": [
       "0.83511557118495805"
      ]
     },
     "execution_count": 30,
     "metadata": {},
     "output_type": "execute_result"
    }
   ],
   "source": [
    "X=df_month_1\n",
    "Y=X['target']\n",
    "X=X.drop('target',1)\n",
    "X=X.drop('time',1)\n",
    "X=X.drop('month_send_time',1)\n",
    "X=X.drop('submission_month',1)\n",
    "X_train,X_test,Y_train,Y_test=train_test_split(X,Y,test_size=0.25,random_state=42)\n",
    "logisticmodel2=logreg.fit(X_train,Y_train)\n",
    "pred_y1=logisticmodel2.predict(X_test)\n",
    "#confusion_matrix(pred_y,Y_test)\n",
    "metrics.accuracy_score(Y_test,pred_y1)"
   ]
  },
  {
   "cell_type": "code",
   "execution_count": 31,
   "metadata": {
    "collapsed": false
   },
   "outputs": [
    {
     "data": {
      "text/plain": [
       "array([[ -2.79555120e-05,  -9.86135133e-05,  -6.87347700e-03,\n",
       "         -1.31291131e-02,  -3.19482490e-05]])"
      ]
     },
     "execution_count": 31,
     "metadata": {},
     "output_type": "execute_result"
    }
   ],
   "source": [
    "logisticmodel2.coef_"
   ]
  },
  {
   "cell_type": "code",
   "execution_count": 58,
   "metadata": {
    "collapsed": true
   },
   "outputs": [],
   "source": [
    "df_month_2=df[df['month_send_time']==2]\n",
    "month_2_values=df_month_2['target']\n",
    "df_month_2=df_month_2.drop('target',1)\n",
    "df_month_2=df_month_2.drop('time',1)\n",
    "df_month_2=df_month_2.drop('month_send_time',1)\n",
    "df_month_2=df_month_2.drop('submission_month',1)\n",
    "predicted_values=logisticmodel2.predict(df_month_2)"
   ]
  },
  {
   "cell_type": "code",
   "execution_count": 59,
   "metadata": {
    "collapsed": false
   },
   "outputs": [
    {
     "data": {
      "text/plain": [
       "0.83685866437063594"
      ]
     },
     "execution_count": 59,
     "metadata": {},
     "output_type": "execute_result"
    }
   ],
   "source": [
    "metrics.accuracy_score(month_2_values,predicted_values)"
   ]
  },
  {
   "cell_type": "code",
   "execution_count": 60,
   "metadata": {
    "collapsed": true
   },
   "outputs": [],
   "source": [
    "#since the accuracy is almost the same in the next month, looks like nothing has changed over one month! "
   ]
  },
  {
   "cell_type": "code",
   "execution_count": 61,
   "metadata": {
    "collapsed": true
   },
   "outputs": [],
   "source": [
    "#Let us if this is the same case for month 2"
   ]
  },
  {
   "cell_type": "code",
   "execution_count": 62,
   "metadata": {
    "collapsed": false
   },
   "outputs": [
    {
     "data": {
      "text/plain": [
       "0.83614462671576828"
      ]
     },
     "execution_count": 62,
     "metadata": {},
     "output_type": "execute_result"
    }
   ],
   "source": [
    "df_month_3=df[df['month_send_time']==3]\n",
    "month_3_values=df_month_3['target']\n",
    "df_month_3=df_month_3.drop('target',1)\n",
    "df_month_3=df_month_3.drop('time',1)\n",
    "df_month_3=df_month_3.drop('month_send_time',1)\n",
    "df_month_3=df_month_3.drop('submission_month',1)\n",
    "predicted_values=logisticmodel2.predict(df_month_3)\n",
    "metrics.accuracy_score(month_3_values,predicted_values)"
   ]
  },
  {
   "cell_type": "code",
   "execution_count": 63,
   "metadata": {
    "collapsed": true
   },
   "outputs": [],
   "source": [
    "#again, looks like not much change has happened from the first to the third month. \n",
    "#let us model using statsmodel to see which are most significat features. Separate models on all three months would\n",
    "#show us if significance level has changed or not."
   ]
  },
  {
   "cell_type": "code",
   "execution_count": 40,
   "metadata": {
    "collapsed": false
   },
   "outputs": [],
   "source": [
    "X=df_month_1\n",
    "Y=X['target']\n",
    "X=X.drop('target',1)\n",
    "X=X.drop('time',1)\n",
    "X=X.drop('article_id',1)\n",
    "X=X.drop('month_send_time',1)\n",
    "X=X.drop('submission_month',1)\n",
    "X_train,X_test,Y_train,Y_test=train_test_split(X,Y,test_size=0.25,random_state=42)\n",
    "logit1=sm.Logit(Y_train,X_train)"
   ]
  },
  {
   "cell_type": "code",
   "execution_count": 41,
   "metadata": {
    "collapsed": false
   },
   "outputs": [
    {
     "name": "stdout",
     "output_type": "stream",
     "text": [
      "Optimization terminated successfully.\n",
      "         Current function value: 0.459225\n",
      "         Iterations 5\n"
     ]
    }
   ],
   "source": [
    "result1=logit1.fit()"
   ]
  },
  {
   "cell_type": "code",
   "execution_count": 42,
   "metadata": {
    "collapsed": false
   },
   "outputs": [
    {
     "data": {
      "text/html": [
       "<table class=\"simpletable\">\n",
       "<caption>Logit Regression Results</caption>\n",
       "<tr>\n",
       "  <th>Dep. Variable:</th>      <td>target</td>      <th>  No. Observations:  </th>   <td>2716246</td>  \n",
       "</tr>\n",
       "<tr>\n",
       "  <th>Model:</th>               <td>Logit</td>      <th>  Df Residuals:      </th>   <td>2716242</td>  \n",
       "</tr>\n",
       "<tr>\n",
       "  <th>Method:</th>               <td>MLE</td>       <th>  Df Model:          </th>   <td>     3</td>   \n",
       "</tr>\n",
       "<tr>\n",
       "  <th>Date:</th>          <td>Fri, 15 Jan 2016</td> <th>  Pseudo R-squ.:     </th>  <td>-0.02607</td>  \n",
       "</tr>\n",
       "<tr>\n",
       "  <th>Time:</th>              <td>22:42:07</td>     <th>  Log-Likelihood:    </th> <td>-1.2474e+06</td>\n",
       "</tr>\n",
       "<tr>\n",
       "  <th>converged:</th>           <td>True</td>       <th>  LL-Null:           </th> <td>-1.2157e+06</td>\n",
       "</tr>\n",
       "<tr>\n",
       "  <th> </th>                      <td> </td>        <th>  LLR p-value:       </th>   <td> 1.000</td>   \n",
       "</tr>\n",
       "</table>\n",
       "<table class=\"simpletable\">\n",
       "<tr>\n",
       "      <td></td>         <th>coef</th>     <th>std err</th>      <th>z</th>      <th>P>|z|</th> <th>[95.0% Conf. Int.]</th> \n",
       "</tr>\n",
       "<tr>\n",
       "  <th>user_id</th>   <td>-3.431e-05</td> <td> 2.45e-07</td> <td> -140.112</td> <td> 0.000</td> <td>-3.48e-05 -3.38e-05</td>\n",
       "</tr>\n",
       "<tr>\n",
       "  <th>topic_id</th>  <td>   -0.0080</td> <td> 4.74e-05</td> <td> -169.472</td> <td> 0.000</td> <td>   -0.008    -0.008</td>\n",
       "</tr>\n",
       "<tr>\n",
       "  <th>type_id</th>   <td>   -0.0157</td> <td> 9.75e-05</td> <td> -161.233</td> <td> 0.000</td> <td>   -0.016    -0.016</td>\n",
       "</tr>\n",
       "<tr>\n",
       "  <th>author_id</th> <td>-3.951e-05</td> <td> 2.52e-07</td> <td> -156.549</td> <td> 0.000</td> <td>   -4e-05  -3.9e-05</td>\n",
       "</tr>\n",
       "</table>"
      ],
      "text/plain": [
       "<class 'statsmodels.iolib.summary.Summary'>\n",
       "\"\"\"\n",
       "                           Logit Regression Results                           \n",
       "==============================================================================\n",
       "Dep. Variable:                 target   No. Observations:              2716246\n",
       "Model:                          Logit   Df Residuals:                  2716242\n",
       "Method:                           MLE   Df Model:                            3\n",
       "Date:                Fri, 15 Jan 2016   Pseudo R-squ.:                -0.02607\n",
       "Time:                        22:42:07   Log-Likelihood:            -1.2474e+06\n",
       "converged:                       True   LL-Null:                   -1.2157e+06\n",
       "                                        LLR p-value:                     1.000\n",
       "==============================================================================\n",
       "                 coef    std err          z      P>|z|      [95.0% Conf. Int.]\n",
       "------------------------------------------------------------------------------\n",
       "user_id    -3.431e-05   2.45e-07   -140.112      0.000     -3.48e-05 -3.38e-05\n",
       "topic_id      -0.0080   4.74e-05   -169.472      0.000        -0.008    -0.008\n",
       "type_id       -0.0157   9.75e-05   -161.233      0.000        -0.016    -0.016\n",
       "author_id  -3.951e-05   2.52e-07   -156.549      0.000        -4e-05  -3.9e-05\n",
       "==============================================================================\n",
       "\"\"\""
      ]
     },
     "execution_count": 42,
     "metadata": {},
     "output_type": "execute_result"
    }
   ],
   "source": [
    "result1.summary()"
   ]
  },
  {
   "cell_type": "code",
   "execution_count": 33,
   "metadata": {
    "collapsed": true
   },
   "outputs": [],
   "source": [
    "# P values are all close to 0 which shows all are significant; The above is the case for month 1\n",
    "#The order of significant is as follows: topic_id, type_id, author_id, user_id"
   ]
  },
  {
   "cell_type": "code",
   "execution_count": 43,
   "metadata": {
    "collapsed": false
   },
   "outputs": [
    {
     "name": "stdout",
     "output_type": "stream",
     "text": [
      "Optimization terminated successfully.\n",
      "         Current function value: 0.457192\n",
      "         Iterations 5\n"
     ]
    },
    {
     "data": {
      "text/html": [
       "<table class=\"simpletable\">\n",
       "<caption>Logit Regression Results</caption>\n",
       "<tr>\n",
       "  <th>Dep. Variable:</th>      <td>target</td>      <th>  No. Observations:  </th>   <td>2543520</td>  \n",
       "</tr>\n",
       "<tr>\n",
       "  <th>Model:</th>               <td>Logit</td>      <th>  Df Residuals:      </th>   <td>2543516</td>  \n",
       "</tr>\n",
       "<tr>\n",
       "  <th>Method:</th>               <td>MLE</td>       <th>  Df Model:          </th>   <td>     3</td>   \n",
       "</tr>\n",
       "<tr>\n",
       "  <th>Date:</th>          <td>Fri, 15 Jan 2016</td> <th>  Pseudo R-squ.:     </th>  <td>-0.02722</td>  \n",
       "</tr>\n",
       "<tr>\n",
       "  <th>Time:</th>              <td>22:43:19</td>     <th>  Log-Likelihood:    </th> <td>-1.1629e+06</td>\n",
       "</tr>\n",
       "<tr>\n",
       "  <th>converged:</th>           <td>True</td>       <th>  LL-Null:           </th> <td>-1.1321e+06</td>\n",
       "</tr>\n",
       "<tr>\n",
       "  <th> </th>                      <td> </td>        <th>  LLR p-value:       </th>   <td> 1.000</td>   \n",
       "</tr>\n",
       "</table>\n",
       "<table class=\"simpletable\">\n",
       "<tr>\n",
       "      <td></td>         <th>coef</th>     <th>std err</th>      <th>z</th>      <th>P>|z|</th> <th>[95.0% Conf. Int.]</th> \n",
       "</tr>\n",
       "<tr>\n",
       "  <th>user_id</th>   <td>-3.476e-05</td> <td> 2.54e-07</td> <td> -137.046</td> <td> 0.000</td> <td>-3.53e-05 -3.43e-05</td>\n",
       "</tr>\n",
       "<tr>\n",
       "  <th>topic_id</th>  <td>   -0.0078</td> <td> 4.89e-05</td> <td> -158.562</td> <td> 0.000</td> <td>   -0.008    -0.008</td>\n",
       "</tr>\n",
       "<tr>\n",
       "  <th>type_id</th>   <td>   -0.0164</td> <td>    0.000</td> <td> -163.666</td> <td> 0.000</td> <td>   -0.017    -0.016</td>\n",
       "</tr>\n",
       "<tr>\n",
       "  <th>author_id</th> <td> -3.77e-05</td> <td> 2.55e-07</td> <td> -147.630</td> <td> 0.000</td> <td>-3.82e-05 -3.72e-05</td>\n",
       "</tr>\n",
       "</table>"
      ],
      "text/plain": [
       "<class 'statsmodels.iolib.summary.Summary'>\n",
       "\"\"\"\n",
       "                           Logit Regression Results                           \n",
       "==============================================================================\n",
       "Dep. Variable:                 target   No. Observations:              2543520\n",
       "Model:                          Logit   Df Residuals:                  2543516\n",
       "Method:                           MLE   Df Model:                            3\n",
       "Date:                Fri, 15 Jan 2016   Pseudo R-squ.:                -0.02722\n",
       "Time:                        22:43:19   Log-Likelihood:            -1.1629e+06\n",
       "converged:                       True   LL-Null:                   -1.1321e+06\n",
       "                                        LLR p-value:                     1.000\n",
       "==============================================================================\n",
       "                 coef    std err          z      P>|z|      [95.0% Conf. Int.]\n",
       "------------------------------------------------------------------------------\n",
       "user_id    -3.476e-05   2.54e-07   -137.046      0.000     -3.53e-05 -3.43e-05\n",
       "topic_id      -0.0078   4.89e-05   -158.562      0.000        -0.008    -0.008\n",
       "type_id       -0.0164      0.000   -163.666      0.000        -0.017    -0.016\n",
       "author_id   -3.77e-05   2.55e-07   -147.630      0.000     -3.82e-05 -3.72e-05\n",
       "==============================================================================\n",
       "\"\"\""
      ]
     },
     "execution_count": 43,
     "metadata": {},
     "output_type": "execute_result"
    }
   ],
   "source": [
    "X=df_month_2\n",
    "Y=X['target']\n",
    "X=X.drop('target',1)\n",
    "X=X.drop('time',1)\n",
    "X=X.drop('article_id',1)\n",
    "X=X.drop('month_send_time',1)\n",
    "X=X.drop('submission_month',1)\n",
    "X_train,X_test,Y_train,Y_test=train_test_split(X,Y,test_size=0.25,random_state=42)\n",
    "logit2=sm.Logit(Y_train,X_train)\n",
    "result=logit2.fit()\n",
    "result.summary()"
   ]
  },
  {
   "cell_type": "code",
   "execution_count": 35,
   "metadata": {
    "collapsed": true
   },
   "outputs": [],
   "source": [
    "# in the above model, the order of significant predictors based on z values is type_id, topic_id,author_id,user_id"
   ]
  },
  {
   "cell_type": "code",
   "execution_count": 44,
   "metadata": {
    "collapsed": false
   },
   "outputs": [
    {
     "name": "stdout",
     "output_type": "stream",
     "text": [
      "Optimization terminated successfully.\n",
      "         Current function value: 0.459411\n",
      "         Iterations 5\n"
     ]
    },
    {
     "data": {
      "text/html": [
       "<table class=\"simpletable\">\n",
       "<caption>Logit Regression Results</caption>\n",
       "<tr>\n",
       "  <th>Dep. Variable:</th>      <td>target</td>      <th>  No. Observations:  </th>   <td>2800312</td>  \n",
       "</tr>\n",
       "<tr>\n",
       "  <th>Model:</th>               <td>Logit</td>      <th>  Df Residuals:      </th>   <td>2800308</td>  \n",
       "</tr>\n",
       "<tr>\n",
       "  <th>Method:</th>               <td>MLE</td>       <th>  Df Model:          </th>   <td>     3</td>   \n",
       "</tr>\n",
       "<tr>\n",
       "  <th>Date:</th>          <td>Fri, 15 Jan 2016</td> <th>  Pseudo R-squ.:     </th>  <td>-0.02976</td>  \n",
       "</tr>\n",
       "<tr>\n",
       "  <th>Time:</th>              <td>22:45:18</td>     <th>  Log-Likelihood:    </th> <td>-1.2865e+06</td>\n",
       "</tr>\n",
       "<tr>\n",
       "  <th>converged:</th>           <td>True</td>       <th>  LL-Null:           </th> <td>-1.2493e+06</td>\n",
       "</tr>\n",
       "<tr>\n",
       "  <th> </th>                      <td> </td>        <th>  LLR p-value:       </th>   <td> 1.000</td>   \n",
       "</tr>\n",
       "</table>\n",
       "<table class=\"simpletable\">\n",
       "<tr>\n",
       "      <td></td>         <th>coef</th>     <th>std err</th>      <th>z</th>      <th>P>|z|</th> <th>[95.0% Conf. Int.]</th> \n",
       "</tr>\n",
       "<tr>\n",
       "  <th>user_id</th>   <td>-3.599e-05</td> <td> 2.41e-07</td> <td> -149.193</td> <td> 0.000</td> <td>-3.65e-05 -3.55e-05</td>\n",
       "</tr>\n",
       "<tr>\n",
       "  <th>topic_id</th>  <td>   -0.0076</td> <td> 4.67e-05</td> <td> -161.629</td> <td> 0.000</td> <td>   -0.008    -0.007</td>\n",
       "</tr>\n",
       "<tr>\n",
       "  <th>type_id</th>   <td>   -0.0158</td> <td>  9.5e-05</td> <td> -166.463</td> <td> 0.000</td> <td>   -0.016    -0.016</td>\n",
       "</tr>\n",
       "<tr>\n",
       "  <th>author_id</th> <td>-3.985e-05</td> <td> 2.45e-07</td> <td> -162.609</td> <td> 0.000</td> <td>-4.03e-05 -3.94e-05</td>\n",
       "</tr>\n",
       "</table>"
      ],
      "text/plain": [
       "<class 'statsmodels.iolib.summary.Summary'>\n",
       "\"\"\"\n",
       "                           Logit Regression Results                           \n",
       "==============================================================================\n",
       "Dep. Variable:                 target   No. Observations:              2800312\n",
       "Model:                          Logit   Df Residuals:                  2800308\n",
       "Method:                           MLE   Df Model:                            3\n",
       "Date:                Fri, 15 Jan 2016   Pseudo R-squ.:                -0.02976\n",
       "Time:                        22:45:18   Log-Likelihood:            -1.2865e+06\n",
       "converged:                       True   LL-Null:                   -1.2493e+06\n",
       "                                        LLR p-value:                     1.000\n",
       "==============================================================================\n",
       "                 coef    std err          z      P>|z|      [95.0% Conf. Int.]\n",
       "------------------------------------------------------------------------------\n",
       "user_id    -3.599e-05   2.41e-07   -149.193      0.000     -3.65e-05 -3.55e-05\n",
       "topic_id      -0.0076   4.67e-05   -161.629      0.000        -0.008    -0.007\n",
       "type_id       -0.0158    9.5e-05   -166.463      0.000        -0.016    -0.016\n",
       "author_id  -3.985e-05   2.45e-07   -162.609      0.000     -4.03e-05 -3.94e-05\n",
       "==============================================================================\n",
       "\"\"\""
      ]
     },
     "execution_count": 44,
     "metadata": {},
     "output_type": "execute_result"
    }
   ],
   "source": [
    "X=df_month_3\n",
    "Y=X['target']\n",
    "X=X.drop('target',1)\n",
    "X=X.drop('time',1)\n",
    "X=X.drop('article_id',1)\n",
    "X=X.drop('month_send_time',1)\n",
    "X=X.drop('submission_month',1)\n",
    "X_train,X_test,Y_train,Y_test=train_test_split(X,Y,test_size=0.25,random_state=42)\n",
    "logit3=sm.Logit(Y_train,X_train)\n",
    "result=logit3.fit()\n",
    "result.summary()"
   ]
  },
  {
   "cell_type": "code",
   "execution_count": null,
   "metadata": {
    "collapsed": true
   },
   "outputs": [],
   "source": [
    "# in the above model, the order of significant predictors based on z values is type_id, topic_id,author_id,user_id"
   ]
  }
 ],
 "metadata": {
  "kernelspec": {
   "display_name": "Python 2",
   "language": "python",
   "name": "python2"
  },
  "language_info": {
   "codemirror_mode": {
    "name": "ipython",
    "version": 2
   },
   "file_extension": ".py",
   "mimetype": "text/x-python",
   "name": "python",
   "nbconvert_exporter": "python",
   "pygments_lexer": "ipython2",
   "version": "2.7.11"
  }
 },
 "nbformat": 4,
 "nbformat_minor": 0
}
